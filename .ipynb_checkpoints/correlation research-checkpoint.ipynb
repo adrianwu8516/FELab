{
 "cells": [
  {
   "cell_type": "code",
   "execution_count": 3,
   "metadata": {
    "collapsed": false
   },
   "outputs": [
    {
     "name": "stderr",
     "output_type": "stream",
     "text": [
      "/Users/adrian/anaconda/lib/python3.6/site-packages/pandas/compat/_optional.py:106: UserWarning: Pandas requires version '1.2.1' or newer of 'bottleneck' (version '1.2.0' currently installed).\n",
      "  warnings.warn(msg, UserWarning)\n"
     ]
    }
   ],
   "source": [
    "import yfinance as yf\n"
   ]
  },
  {
   "cell_type": "code",
   "execution_count": 47,
   "metadata": {
    "collapsed": false
   },
   "outputs": [
    {
     "name": "stdout",
     "output_type": "stream",
     "text": [
      "['rds-b', 250]\n",
      "['baba', 10]\n",
      "['vnet', 200]\n",
      "['lmt', 5]\n",
      "['hlf', 50]\n"
     ]
    }
   ],
   "source": [
    "# position info\n",
    "POSITION = [\n",
    "  ['rds-b', 250],\n",
    "  ['baba', 10],\n",
    "  ['vnet', 200],\n",
    "  ['lmt',5],\n",
    "  ['hlf',50]\n",
    "]\n",
    "for item in POSITION:\n",
    "    infoNeeded = {}\n",
    "    print(item)\n",
    "    tickerSymbol = item[0]\n",
    "    tickerData = yf.Ticker(tickerSymbol)\n",
    "    positton = tickerData.info['previousClose'] * item[1]\n",
    "    symbol = tickerData.info['symbol']\n",
    "    close = tickerData.history(period='1d', start='2015-1-1', end='2020-6-10')['Close']\n",
    "    infoNeeded[symbol] = [symbol, close, positton]"
   ]
  },
  {
   "cell_type": "code",
   "execution_count": 52,
   "metadata": {
    "collapsed": false
   },
   "outputs": [
    {
     "data": {
      "text/plain": [
       "2058.0"
      ]
     },
     "execution_count": 52,
     "metadata": {},
     "output_type": "execute_result"
    }
   ],
   "source": [
    "infoNeeded['HLF'][2]"
   ]
  },
  {
   "cell_type": "code",
   "execution_count": null,
   "metadata": {
    "collapsed": true
   },
   "outputs": [],
   "source": []
  }
 ],
 "metadata": {
  "kernelspec": {
   "display_name": "Python 3",
   "language": "python",
   "name": "python3"
  },
  "language_info": {
   "codemirror_mode": {
    "name": "ipython",
    "version": 3
   },
   "file_extension": ".py",
   "mimetype": "text/x-python",
   "name": "python",
   "nbconvert_exporter": "python",
   "pygments_lexer": "ipython3",
   "version": "3.6.0"
  }
 },
 "nbformat": 4,
 "nbformat_minor": 2
}
